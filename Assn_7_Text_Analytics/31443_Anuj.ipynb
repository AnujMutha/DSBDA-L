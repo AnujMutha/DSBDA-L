{
 "cells": [
  {
   "cell_type": "markdown",
   "id": "57ed5175",
   "metadata": {},
   "source": [
    "### Assignment No-7\n",
    "\n",
    "Name- Anuj Mutha<br>\n",
    "Roll Number- 31443<br>\n",
    "batch- M4"
   ]
  },
  {
   "cell_type": "markdown",
   "id": "15fa6d86",
   "metadata": {},
   "source": [
    "### Importing required libraries"
   ]
  },
  {
   "cell_type": "code",
   "execution_count": 32,
   "id": "4d37a13a",
   "metadata": {},
   "outputs": [],
   "source": [
    "import nltk\n",
    "import pandas as pd"
   ]
  },
  {
   "cell_type": "code",
   "execution_count": 3,
   "id": "06f3695a",
   "metadata": {},
   "outputs": [],
   "source": [
    "from nltk.tokenize import word_tokenize\n",
    "from nltk.corpus import stopwords"
   ]
  },
  {
   "cell_type": "code",
   "execution_count": 5,
   "id": "e275291d",
   "metadata": {},
   "outputs": [
    {
     "name": "stderr",
     "output_type": "stream",
     "text": [
      "[nltk_data] Downloading package punkt to\n",
      "[nltk_data]     C:\\Users\\lenovo\\AppData\\Roaming\\nltk_data...\n",
      "[nltk_data]   Package punkt is already up-to-date!\n"
     ]
    },
    {
     "data": {
      "text/plain": [
       "True"
      ]
     },
     "execution_count": 5,
     "metadata": {},
     "output_type": "execute_result"
    }
   ],
   "source": [
    "nltk.download('punkt') #to run tokenizer function"
   ]
  },
  {
   "cell_type": "markdown",
   "id": "eda26ebc",
   "metadata": {},
   "source": [
    "### Data Preprocessing"
   ]
  },
  {
   "cell_type": "markdown",
   "id": "aea47f60",
   "metadata": {},
   "source": [
    "### Tokenization"
   ]
  },
  {
   "cell_type": "code",
   "execution_count": 6,
   "id": "13698519",
   "metadata": {},
   "outputs": [],
   "source": [
    "tokens=word_tokenize('This is the TE4 class of the CE')"
   ]
  },
  {
   "cell_type": "code",
   "execution_count": 7,
   "id": "7504903b",
   "metadata": {},
   "outputs": [
    {
     "name": "stdout",
     "output_type": "stream",
     "text": [
      "['This', 'is', 'the', 'TE4', 'class', 'of', 'the', 'CE']\n"
     ]
    }
   ],
   "source": [
    "print(tokens)"
   ]
  },
  {
   "cell_type": "markdown",
   "id": "090294a9",
   "metadata": {},
   "source": [
    "### Removing Stopwords"
   ]
  },
  {
   "cell_type": "code",
   "execution_count": 8,
   "id": "23ef6120",
   "metadata": {},
   "outputs": [
    {
     "name": "stderr",
     "output_type": "stream",
     "text": [
      "[nltk_data] Downloading package stopwords to\n",
      "[nltk_data]     C:\\Users\\lenovo\\AppData\\Roaming\\nltk_data...\n",
      "[nltk_data]   Unzipping corpora\\stopwords.zip.\n"
     ]
    },
    {
     "data": {
      "text/plain": [
       "True"
      ]
     },
     "execution_count": 8,
     "metadata": {},
     "output_type": "execute_result"
    }
   ],
   "source": [
    "nltk.download('stopwords')"
   ]
  },
  {
   "cell_type": "code",
   "execution_count": 9,
   "id": "eb6bf0ce",
   "metadata": {},
   "outputs": [
    {
     "name": "stdout",
     "output_type": "stream",
     "text": [
      "['This', 'TE4', 'class', 'CE']\n"
     ]
    }
   ],
   "source": [
    "stop_words=set(stopwords.words('english'))\n",
    "tokens=[w for w in tokens if not w in stop_words]\n",
    "print(tokens)"
   ]
  },
  {
   "cell_type": "markdown",
   "id": "cfc0774e",
   "metadata": {},
   "source": [
    "### POS tagging on Stop Words"
   ]
  },
  {
   "cell_type": "code",
   "execution_count": 36,
   "id": "14f884c9",
   "metadata": {},
   "outputs": [
    {
     "name": "stderr",
     "output_type": "stream",
     "text": [
      "[nltk_data] Downloading package averaged_perceptron_tagger to\n",
      "[nltk_data]     C:\\Users\\lenovo\\AppData\\Roaming\\nltk_data...\n",
      "[nltk_data]   Unzipping taggers\\averaged_perceptron_tagger.zip.\n"
     ]
    },
    {
     "data": {
      "text/plain": [
       "True"
      ]
     },
     "execution_count": 36,
     "metadata": {},
     "output_type": "execute_result"
    }
   ],
   "source": [
    " nltk.download('averaged_perceptron_tagger')"
   ]
  },
  {
   "cell_type": "code",
   "execution_count": 37,
   "id": "ad15dcb3",
   "metadata": {},
   "outputs": [
    {
     "name": "stdout",
     "output_type": "stream",
     "text": [
      "[('This', 'DT'), ('TE4', 'NNP'), ('class', 'NN'), ('CE', 'NNP')]\n"
     ]
    }
   ],
   "source": [
    "tagged = nltk.pos_tag(tokens)\n",
    " \n",
    "print(tagged)"
   ]
  },
  {
   "cell_type": "markdown",
   "id": "072614c4",
   "metadata": {},
   "source": [
    "This - Determiner<br>\n",
    "TE4 - Proper Noun<br>\n",
    "class -Noun<br>\n",
    "CE - Proper Noun"
   ]
  },
  {
   "cell_type": "markdown",
   "id": "13f23aa5",
   "metadata": {},
   "source": [
    "### Calculating TF and IDF using user defined functions"
   ]
  },
  {
   "cell_type": "code",
   "execution_count": 10,
   "id": "2175ae3a",
   "metadata": {},
   "outputs": [],
   "source": [
    "from sklearn.feature_extraction.text import TfidfVectorizer"
   ]
  },
  {
   "cell_type": "code",
   "execution_count": 11,
   "id": "999cb935",
   "metadata": {},
   "outputs": [],
   "source": [
    "documentA=\"The man went out for the work\"\n",
    "documentB=\"The childeren sat around the fire\""
   ]
  },
  {
   "cell_type": "code",
   "execution_count": 12,
   "id": "e8f5cfa9",
   "metadata": {},
   "outputs": [],
   "source": [
    "bagOfWordA=word_tokenize(documentA)\n",
    "bagOfWordB=word_tokenize(documentB)"
   ]
  },
  {
   "cell_type": "code",
   "execution_count": 13,
   "id": "55aa88c7",
   "metadata": {},
   "outputs": [
    {
     "name": "stdout",
     "output_type": "stream",
     "text": [
      "['The', 'man', 'went', 'out', 'for', 'the', 'work']\n",
      "['The', 'childeren', 'sat', 'around', 'the', 'fire']\n"
     ]
    }
   ],
   "source": [
    "print(bagOfWordA)\n",
    "print(bagOfWordB)"
   ]
  },
  {
   "cell_type": "code",
   "execution_count": 14,
   "id": "3f60ba0c",
   "metadata": {},
   "outputs": [
    {
     "data": {
      "text/plain": [
       "{'The',\n",
       " 'around',\n",
       " 'childeren',\n",
       " 'fire',\n",
       " 'for',\n",
       " 'man',\n",
       " 'out',\n",
       " 'sat',\n",
       " 'the',\n",
       " 'went',\n",
       " 'work'}"
      ]
     },
     "execution_count": 14,
     "metadata": {},
     "output_type": "execute_result"
    }
   ],
   "source": [
    "uniqueWords=set(bagOfWordA).union(set(bagOfWordB))\n",
    "uniqueWords"
   ]
  },
  {
   "cell_type": "code",
   "execution_count": 15,
   "id": "0cf47d9f",
   "metadata": {},
   "outputs": [],
   "source": [
    "numOfWordsA=dict.fromkeys(uniqueWords,0)"
   ]
  },
  {
   "cell_type": "code",
   "execution_count": 16,
   "id": "d8bdf253",
   "metadata": {},
   "outputs": [],
   "source": [
    "for word in bagOfWordA:\n",
    "    numOfWordsA[word]+=1\n",
    "    \n",
    "numOfWordsB=dict.fromkeys(uniqueWords,0)\n",
    "\n",
    "for word in bagOfWordB:\n",
    "    numOfWordsB[word]+=1"
   ]
  },
  {
   "cell_type": "code",
   "execution_count": 17,
   "id": "29629230",
   "metadata": {},
   "outputs": [
    {
     "data": {
      "text/plain": [
       "{'The': 1,\n",
       " 'man': 1,\n",
       " 'work': 1,\n",
       " 'fire': 0,\n",
       " 'went': 1,\n",
       " 'out': 1,\n",
       " 'around': 0,\n",
       " 'childeren': 0,\n",
       " 'the': 1,\n",
       " 'for': 1,\n",
       " 'sat': 0}"
      ]
     },
     "execution_count": 17,
     "metadata": {},
     "output_type": "execute_result"
    }
   ],
   "source": [
    "numOfWordsA \n"
   ]
  },
  {
   "cell_type": "code",
   "execution_count": 18,
   "id": "4cc82eb0",
   "metadata": {},
   "outputs": [
    {
     "data": {
      "text/plain": [
       "{'The': 1,\n",
       " 'man': 0,\n",
       " 'work': 0,\n",
       " 'fire': 1,\n",
       " 'went': 0,\n",
       " 'out': 0,\n",
       " 'around': 1,\n",
       " 'childeren': 1,\n",
       " 'the': 1,\n",
       " 'for': 0,\n",
       " 'sat': 1}"
      ]
     },
     "execution_count": 18,
     "metadata": {},
     "output_type": "execute_result"
    }
   ],
   "source": [
    "numOfWordsB"
   ]
  },
  {
   "cell_type": "markdown",
   "id": "4c359970",
   "metadata": {},
   "source": [
    "### Function definition to calculate TF"
   ]
  },
  {
   "cell_type": "code",
   "execution_count": 19,
   "id": "58759e1e",
   "metadata": {},
   "outputs": [],
   "source": [
    "def computeTF(wordDict,bagOfWords):\n",
    "    tfDict={}\n",
    "    bagOfWordsCount=len(bagOfWords)\n",
    "    for word,count in wordDict.items():\n",
    "        tfDict[word]=count/float(bagOfWordsCount)\n",
    "    return tfDict\n",
    "    "
   ]
  },
  {
   "cell_type": "code",
   "execution_count": 20,
   "id": "dbf56509",
   "metadata": {},
   "outputs": [],
   "source": [
    "tfA = computeTF(numOfWordsA, bagOfWordA)\n",
    "tfB = computeTF(numOfWordsB, bagOfWordB)"
   ]
  },
  {
   "cell_type": "code",
   "execution_count": 21,
   "id": "1c96c5c9",
   "metadata": {},
   "outputs": [
    {
     "data": {
      "text/plain": [
       "{'The': 0.14285714285714285,\n",
       " 'man': 0.14285714285714285,\n",
       " 'work': 0.14285714285714285,\n",
       " 'fire': 0.0,\n",
       " 'went': 0.14285714285714285,\n",
       " 'out': 0.14285714285714285,\n",
       " 'around': 0.0,\n",
       " 'childeren': 0.0,\n",
       " 'the': 0.14285714285714285,\n",
       " 'for': 0.14285714285714285,\n",
       " 'sat': 0.0}"
      ]
     },
     "execution_count": 21,
     "metadata": {},
     "output_type": "execute_result"
    }
   ],
   "source": [
    "tfA\n"
   ]
  },
  {
   "cell_type": "code",
   "execution_count": 22,
   "id": "4e382082",
   "metadata": {},
   "outputs": [
    {
     "data": {
      "text/plain": [
       "{'The': 0.16666666666666666,\n",
       " 'man': 0.0,\n",
       " 'work': 0.0,\n",
       " 'fire': 0.16666666666666666,\n",
       " 'went': 0.0,\n",
       " 'out': 0.0,\n",
       " 'around': 0.16666666666666666,\n",
       " 'childeren': 0.16666666666666666,\n",
       " 'the': 0.16666666666666666,\n",
       " 'for': 0.0,\n",
       " 'sat': 0.16666666666666666}"
      ]
     },
     "execution_count": 22,
     "metadata": {},
     "output_type": "execute_result"
    }
   ],
   "source": [
    "tfB"
   ]
  },
  {
   "cell_type": "markdown",
   "id": "c99b8f3d",
   "metadata": {},
   "source": [
    "### Function definition to calculate IDF- Inverse Data Frequency"
   ]
  },
  {
   "cell_type": "code",
   "execution_count": 23,
   "id": "155e65a2",
   "metadata": {},
   "outputs": [],
   "source": [
    "def computeIDF(documents):\n",
    "    import math\n",
    "    N = len(documents)\n",
    "    \n",
    "    idfDict = dict.fromkeys(documents[0].keys(), 0)\n",
    "    for document in documents:\n",
    "        for word, val in document.items():\n",
    "            if val > 0:\n",
    "                idfDict[word] += 1\n",
    "    \n",
    "    for word, val in idfDict.items():\n",
    "        idfDict[word] = math.log(N / float(val))\n",
    "    return idfDict\n",
    "    "
   ]
  },
  {
   "cell_type": "code",
   "execution_count": 24,
   "id": "200419a0",
   "metadata": {},
   "outputs": [],
   "source": [
    "idfs=computeIDF([numOfWordsA,numOfWordsB])"
   ]
  },
  {
   "cell_type": "code",
   "execution_count": 25,
   "id": "ffc35c04",
   "metadata": {},
   "outputs": [
    {
     "data": {
      "text/plain": [
       "{'The': 0.0,\n",
       " 'man': 0.6931471805599453,\n",
       " 'work': 0.6931471805599453,\n",
       " 'fire': 0.6931471805599453,\n",
       " 'went': 0.6931471805599453,\n",
       " 'out': 0.6931471805599453,\n",
       " 'around': 0.6931471805599453,\n",
       " 'childeren': 0.6931471805599453,\n",
       " 'the': 0.0,\n",
       " 'for': 0.6931471805599453,\n",
       " 'sat': 0.6931471805599453}"
      ]
     },
     "execution_count": 25,
     "metadata": {},
     "output_type": "execute_result"
    }
   ],
   "source": [
    "idfs"
   ]
  },
  {
   "cell_type": "markdown",
   "id": "1d0822ec",
   "metadata": {},
   "source": [
    "### Function definition to calculate TF-IDF"
   ]
  },
  {
   "cell_type": "code",
   "execution_count": 26,
   "id": "74d1b9e3",
   "metadata": {},
   "outputs": [],
   "source": [
    "def computeTFIDF(tfBagOfWords, idfs):\n",
    "    tfidf={}\n",
    "    for word, val in tfBagOfWords.items():\n",
    "        tfidf[word]=val*idfs[word]\n",
    "    return tfidf   "
   ]
  },
  {
   "cell_type": "code",
   "execution_count": 30,
   "id": "16da79ab",
   "metadata": {},
   "outputs": [
    {
     "data": {
      "text/plain": [
       "{'The': 0.0,\n",
       " 'man': 0.09902102579427789,\n",
       " 'work': 0.09902102579427789,\n",
       " 'fire': 0.0,\n",
       " 'went': 0.09902102579427789,\n",
       " 'out': 0.09902102579427789,\n",
       " 'around': 0.0,\n",
       " 'childeren': 0.0,\n",
       " 'the': 0.0,\n",
       " 'for': 0.09902102579427789,\n",
       " 'sat': 0.0}"
      ]
     },
     "execution_count": 30,
     "metadata": {},
     "output_type": "execute_result"
    }
   ],
   "source": [
    "tfidfA=computeTFIDF(tfA, idfs)\n",
    "tfidfB=computeTFIDF(tfB, idfs)\n",
    "tfidfA\n"
   ]
  },
  {
   "cell_type": "code",
   "execution_count": 29,
   "id": "b429c6fa",
   "metadata": {},
   "outputs": [
    {
     "data": {
      "text/plain": [
       "{'The': 0.0,\n",
       " 'man': 0.0,\n",
       " 'work': 0.0,\n",
       " 'fire': 0.11552453009332421,\n",
       " 'went': 0.0,\n",
       " 'out': 0.0,\n",
       " 'around': 0.11552453009332421,\n",
       " 'childeren': 0.11552453009332421,\n",
       " 'the': 0.0,\n",
       " 'for': 0.0,\n",
       " 'sat': 0.11552453009332421}"
      ]
     },
     "execution_count": 29,
     "metadata": {},
     "output_type": "execute_result"
    }
   ],
   "source": [
    "tfidfB"
   ]
  },
  {
   "cell_type": "markdown",
   "id": "2dc9485a",
   "metadata": {},
   "source": [
    "### PreDefined functions in Python to calculate TF-IDF we will get following results"
   ]
  },
  {
   "cell_type": "code",
   "execution_count": 33,
   "id": "6b66e994",
   "metadata": {},
   "outputs": [],
   "source": [
    "vectorizer=TfidfVectorizer()\n",
    "\n",
    "vectors=vectorizer.fit_transform([documentA,documentB])\n",
    "\n",
    "feature_names=vectorizer.get_feature_names()\n",
    "\n",
    "dense=vectors.todense()\n",
    "\n",
    "denselist=dense.tolist()\n",
    "\n",
    "df=pd.DataFrame(denselist, columns=feature_names)"
   ]
  },
  {
   "cell_type": "code",
   "execution_count": 34,
   "id": "83ad3f2c",
   "metadata": {},
   "outputs": [
    {
     "data": {
      "text/html": [
       "<div>\n",
       "<style scoped>\n",
       "    .dataframe tbody tr th:only-of-type {\n",
       "        vertical-align: middle;\n",
       "    }\n",
       "\n",
       "    .dataframe tbody tr th {\n",
       "        vertical-align: top;\n",
       "    }\n",
       "\n",
       "    .dataframe thead th {\n",
       "        text-align: right;\n",
       "    }\n",
       "</style>\n",
       "<table border=\"1\" class=\"dataframe\">\n",
       "  <thead>\n",
       "    <tr style=\"text-align: right;\">\n",
       "      <th></th>\n",
       "      <th>around</th>\n",
       "      <th>childeren</th>\n",
       "      <th>fire</th>\n",
       "      <th>for</th>\n",
       "      <th>man</th>\n",
       "      <th>out</th>\n",
       "      <th>sat</th>\n",
       "      <th>the</th>\n",
       "      <th>went</th>\n",
       "      <th>work</th>\n",
       "    </tr>\n",
       "  </thead>\n",
       "  <tbody>\n",
       "    <tr>\n",
       "      <th>0</th>\n",
       "      <td>0.000000</td>\n",
       "      <td>0.000000</td>\n",
       "      <td>0.000000</td>\n",
       "      <td>0.377292</td>\n",
       "      <td>0.377292</td>\n",
       "      <td>0.377292</td>\n",
       "      <td>0.000000</td>\n",
       "      <td>0.536893</td>\n",
       "      <td>0.377292</td>\n",
       "      <td>0.377292</td>\n",
       "    </tr>\n",
       "    <tr>\n",
       "      <th>1</th>\n",
       "      <td>0.407401</td>\n",
       "      <td>0.407401</td>\n",
       "      <td>0.407401</td>\n",
       "      <td>0.000000</td>\n",
       "      <td>0.000000</td>\n",
       "      <td>0.000000</td>\n",
       "      <td>0.407401</td>\n",
       "      <td>0.579739</td>\n",
       "      <td>0.000000</td>\n",
       "      <td>0.000000</td>\n",
       "    </tr>\n",
       "  </tbody>\n",
       "</table>\n",
       "</div>"
      ],
      "text/plain": [
       "     around  childeren      fire       for       man       out       sat  \\\n",
       "0  0.000000   0.000000  0.000000  0.377292  0.377292  0.377292  0.000000   \n",
       "1  0.407401   0.407401  0.407401  0.000000  0.000000  0.000000  0.407401   \n",
       "\n",
       "        the      went      work  \n",
       "0  0.536893  0.377292  0.377292  \n",
       "1  0.579739  0.000000  0.000000  "
      ]
     },
     "execution_count": 34,
     "metadata": {},
     "output_type": "execute_result"
    }
   ],
   "source": [
    "df"
   ]
  },
  {
   "cell_type": "markdown",
   "id": "a651ea87",
   "metadata": {},
   "source": [
    "### Observations-\n",
    "The values differ slightly between pre-defined and user-defined functions because sklearn uses a smoothed version idf and various other little optimizations. In an example with more text, the score for the word the would be greatly reduced.\n"
   ]
  },
  {
   "cell_type": "code",
   "execution_count": null,
   "id": "f5f34fda",
   "metadata": {},
   "outputs": [],
   "source": []
  }
 ],
 "metadata": {
  "kernelspec": {
   "display_name": "Python 3",
   "language": "python",
   "name": "python3"
  },
  "language_info": {
   "codemirror_mode": {
    "name": "ipython",
    "version": 3
   },
   "file_extension": ".py",
   "mimetype": "text/x-python",
   "name": "python",
   "nbconvert_exporter": "python",
   "pygments_lexer": "ipython3",
   "version": "3.8.8"
  }
 },
 "nbformat": 4,
 "nbformat_minor": 5
}
